{
 "cells": [
  {
   "cell_type": "markdown",
   "metadata": {
    "deletable": false,
    "editable": false
   },
   "source": [
    "# Coding Challenges\n",
    "\n",
    "This notebook contains a collection of Python coding challenges."
   ]
  },
  {
   "cell_type": "markdown",
   "metadata": {
    "deletable": false,
    "editable": false
   },
   "source": [
    "<hr>\n",
    "\n",
    "## Capital Indices\n",
    "\n",
    "Write a function `capital_indices`.\n",
    "\n",
    "The function has the following parameters:\n",
    "\n",
    "- `word` of type `str`, which is always at least one character long.\n",
    "\n",
    "The function should return a `list` of all indices in the string, which are uppercase letters.\n",
    "\n",
    "**Example:**\n",
    "\n",
    "```python\n",
    "indices = capital_indices('HeLlO')\n",
    "print(indices) # prints: [0, 2, 4]\n",
    "```\n"
   ]
  },
  {
   "cell_type": "code",
   "execution_count": null,
   "metadata": {},
   "outputs": [],
   "source": [
    "def capital_indices(word: str) -> list[int]:\n",
    "    return [] # TODO: replace this line with your code\n",
    "\n",
    "indices = capital_indices('HeLlO')\n",
    "print(indices)"
   ]
  },
  {
   "cell_type": "markdown",
   "metadata": {
    "deletable": false,
    "editable": false
   },
   "source": [
    "### Solution\n",
    "\n",
    ":::{dropdown} Expand to show solution\n",
    "\n",
    "The first solution uses a list comprehension to generate the list of indices.\n",
    "However, using a loop is also correct.\n",
    "\n",
    "```python\n",
    "def capital_indices(word: str) -> list[int]:\n",
    "    return [i for i in range(len(word)) if word[i].isupper()]\n",
    "```\n",
    "\n",
    "or\n",
    "\n",
    "```python\n",
    "def capital_indices(word: str) -> list[int]:\n",
    "    result = []\n",
    "    for i, c in enumerate(word):\n",
    "        if c.isupper():\n",
    "            result.append(i)\n",
    "    return result\n",
    "```\n",
    ":::"
   ]
  },
  {
   "cell_type": "markdown",
   "metadata": {
    "deletable": false,
    "editable": false
   },
   "source": [
    "<hr>\n",
    "\n",
    "## Middle Letter\n",
    "\n",
    "Write a function `middle_letter`.\n",
    "\n",
    "The function has the following parameters:\n",
    "\n",
    "- `word` of type `str`, which is always at least one character long.\n",
    "\n",
    "The function should return:\n",
    "\n",
    "- the middle letter of the word, if it has an odd number of characters.\n",
    "- an empty string, if the word has an even number of letters.\n",
    "\n",
    "**Example:**\n",
    "```python\n",
    "middle = middle_letter('Hello')\n",
    "print(middle) # prints: l\n",
    "```\n",
    "\n",
    "```python\n",
    "middle = middle_letter('four')\n",
    "print(middle) # prints: \n",
    "```"
   ]
  },
  {
   "cell_type": "code",
   "execution_count": null,
   "metadata": {},
   "outputs": [],
   "source": [
    "def middle_letter(word: str) -> str:\n",
    "    return '' # TODO: replace this line with your code\n",
    "\n",
    "middle = middle_letter('Hello')\n",
    "print(middle)"
   ]
  },
  {
   "cell_type": "markdown",
   "metadata": {
    "deletable": false,
    "editable": false
   },
   "source": [
    "### Solution\n",
    "\n",
    ":::{dropdown} Expand to show solution\n",
    "\n",
    "The solution below uses a ternary operator to return the result in a single line.\n",
    "Using a normal if-else condition is also correct.\n",
    "\n",
    "The `//` operator in Python is used for [integer division](https://mathworld.wolfram.com/IntegerDivision.html).\n",
    "\n",
    "```python\n",
    "def middle_letter(word: str) -> str:\n",
    "    return '' if len(word) % 2 == 0 else word[len(word) // 2]\n",
    "```\n",
    "\n",
    "or\n",
    "\n",
    "```python\n",
    "def middle_letter(word: str) -> str:\n",
    "    middle: str = ''\n",
    "    if len(word) % 2 != 0:\n",
    "        middle = word[len(word) // 2]\n",
    "    return middle\n",
    "```\n",
    "\n",
    ":::"
   ]
  },
  {
   "cell_type": "markdown",
   "metadata": {
    "deletable": false,
    "editable": false
   },
   "source": [
    "<hr>\n",
    "\n",
    "## Palindrome\n",
    "\n",
    "Write a function `is_palindrome`.\n",
    "\n",
    "The function has the following parameters:\n",
    "\n",
    "- `word` of type `str`, which is always at least one character long.\n",
    "\n",
    "The function should return `True` if `word` is a [palindrome](https://en.wikipedia.org/wiki/Palindrome), `False` otherwise.\n",
    "\n",
    "**Example:**\n",
    "```python\n",
    "palindrome = is_palindrome('racecar')\n",
    "print(palindrome) # prints: True\n",
    "\n",
    "palindrome = is_palindrome('hello')\n",
    "print(palindrome) # prints: False\n",
    "```"
   ]
  },
  {
   "cell_type": "code",
   "execution_count": null,
   "metadata": {},
   "outputs": [],
   "source": [
    "def is_palindrome(word: str) -> bool:\n",
    "    return False # TODO: replace this line with your code\n",
    "\n",
    "palindrome = is_palindrome('racecar')\n",
    "print(palindrome)"
   ]
  },
  {
   "cell_type": "markdown",
   "metadata": {
    "deletable": false,
    "editable": false
   },
   "source": [
    "### Solution\n",
    "\n",
    ":::{dropdown} Expand to show solution\n",
    "\n",
    "The easiest approach is to compare the original `word` with the reversed version.\n",
    "The solution uses Python slicing to traverse the string in reverse order.\n",
    "Other variations where all characters are compared to each other are also correct.\n",
    "\n",
    "```python\n",
    "def is_palindrome(word: str) -> bool:\n",
    "    return word == word[::-1]\n",
    "```\n",
    "\n",
    "or \n",
    "\n",
    "```python\n",
    "def is_palindrome(word: str) -> bool:\n",
    "    start = 0\n",
    "    end = len(word) - 1\n",
    "    while(start < end):\n",
    "        if word[start] != word[end]:\n",
    "            return False\n",
    "        start += 1\n",
    "        end -= 1\n",
    "    return True\n",
    "```\n",
    "\n",
    ":::"
   ]
  },
  {
   "cell_type": "markdown",
   "metadata": {
    "deletable": false,
    "editable": false
   },
   "source": [
    "<hr>\n",
    "\n",
    "## Add Numbers\n",
    "\n",
    "Write a function `add_nums`.\n",
    "\n",
    "The functions has the following parameters:\n",
    "\n",
    "- `a` of type `int`.\n",
    "- `b` of type `int`.\n",
    "\n",
    "The function should return the sum of `a` and `b`.\n",
    "\n",
    "**Example:**\n",
    "```python\n",
    "res = add_nums(3, 4)\n",
    "print(res) # prints: 7\n",
    "```"
   ]
  },
  {
   "cell_type": "code",
   "execution_count": null,
   "metadata": {},
   "outputs": [],
   "source": [
    "def add_nums(a: int, b: int) -> int:\n",
    "    return 0 # TODO: replace this line with your code\n",
    "\n",
    "res = add_nums(3, 4)\n",
    "print(res) # prints: 7"
   ]
  },
  {
   "cell_type": "markdown",
   "metadata": {
    "deletable": false,
    "editable": false
   },
   "source": [
    "### Solution\n",
    "\n",
    ":::{dropdown} Expand to show solution\n",
    "\n",
    "```python\n",
    "def add_nums(a: int, b: int) -> int:\n",
    "    return a + b\n",
    "```\n",
    "\n",
    ":::"
   ]
  },
  {
   "cell_type": "markdown",
   "metadata": {
    "deletable": false,
    "editable": false
   },
   "source": [
    "<hr>\n",
    "\n",
    "## Basketball Score\n",
    "\n",
    "Write a function `basketball_score`.\n",
    "\n",
    "The function has the following parameters:\n",
    "\n",
    "- `two` of type `int`, which is the number of two-point throws scored.\n",
    "- `three` of type `int`, which is the number of three-point throws scored.\n",
    "\n",
    "The function should calculate the score of the team.\n",
    "\n",
    "**Example:**\n",
    "```python\n",
    "score = basketball_score(10, 3)\n",
    "print(score) # prints: 39\n",
    "```"
   ]
  },
  {
   "cell_type": "code",
   "execution_count": null,
   "metadata": {},
   "outputs": [],
   "source": [
    "def basketball_score(two: int, three: int) -> int:\n",
    "    return 0 # TODO: replace this line with your code\n",
    "\n",
    "score = basketball_score(10, 3)\n",
    "print(score)"
   ]
  },
  {
   "cell_type": "markdown",
   "metadata": {
    "deletable": false,
    "editable": false
   },
   "source": [
    "### Solution\n",
    "\n",
    ":::{dropdown} Expand to show solution\n",
    "\n",
    "Multiply the parameters with the correct score value to get the score.\n",
    "\n",
    "```python\n",
    "def basketball_score(two: int, three: int) -> int:\n",
    "    return (two * 2) + (three * 3)\n",
    "```\n",
    "\n",
    ":::"
   ]
  },
  {
   "cell_type": "markdown",
   "metadata": {
    "deletable": false,
    "editable": false
   },
   "source": [
    "<hr>\n",
    "\n",
    "## Sum Natural Numbers\n",
    "\n",
    "Write a function `sum_natural`.\n",
    "\n",
    "The function has the following parameters:\n",
    "\n",
    "- `n` of type `int`.\n",
    "\n",
    "The function should return the sum of all natural numbers {math}`\\mathbb{N}` from {math}`1` to and including {math}`n`.\n",
    "This results in the function calculating the following: {math}`\\sum_{1}^{n} n`.\n",
    "\n",
    "**Example:**\n",
    "```python\n",
    "res = sum_natural(5)\n",
    "print(res) # prints: 15\n",
    "```"
   ]
  },
  {
   "cell_type": "code",
   "execution_count": null,
   "metadata": {},
   "outputs": [
    {
     "name": "stdout",
     "output_type": "stream",
     "text": [
      "15\n"
     ]
    }
   ],
   "source": [
    "def sum_natural(n: int) -> int:\n",
    "    return 0 # TODO: replace this line with your code\n",
    "\n",
    "res = sum_natural(5)\n",
    "print(res)"
   ]
  },
  {
   "cell_type": "markdown",
   "metadata": {
    "deletable": false,
    "editable": false
   },
   "source": [
    "### Solution\n",
    "\n",
    ":::{dropdown} Expand to show solution\n",
    "\n",
    "`range(stop)` generates a list of numbers from `0` to `stop - 1` (`range(10)` will generate a list of number from `0` to `9`).\n",
    "This can be used to sum all number from `1` to `n` in our case, using the existing `sum()` function of Python.\n",
    "\n",
    "```python\n",
    "def sum_natural(n: int) -> int:\n",
    "    return sum(range(n+1))\n",
    "```\n",
    "\n",
    "or\n",
    "\n",
    "```python\n",
    "def sum_natural(n: int) -> int:\n",
    "    result = 0\n",
    "    for i in range(n+1):\n",
    "        result += i\n",
    "    return result\n",
    "```\n",
    "\n",
    ":::"
   ]
  },
  {
   "cell_type": "markdown",
   "metadata": {
    "deletable": false,
    "editable": false
   },
   "source": [
    "<hr>\n",
    "\n",
    "## Order the Food\n",
    "\n",
    "Write a function `order_food`.\n",
    "\n",
    "The function has the following parameters:\n",
    "\n",
    "- `attendees` which is a `list` of objects (attendees).\n",
    "\n",
    "The function should return the count of all different food options for all attendees.\n",
    "Available food options are: `'standard'`, `'vegetarian'`, `'vegan'`, `'diabetic'`, `'gluten-intolerant'`.\n",
    "\n",
    "**Example:**\n",
    "\n",
    "```python\n",
    "attendees = [\n",
    "    { 'firstName': 'Noah', 'lastName': 'M.', 'country': 'Switzerland', 'continent': 'Europe', 'age': 19, 'language': 'C', 'meal': 'vegetarian' },\n",
    "    { 'firstName': 'Anna', 'lastName': 'R.', 'country': 'Liechtenstein', 'continent': 'Europe', 'age': 52, 'language': 'JavaScript', 'meal': 'standard' },\n",
    "    { 'firstName': 'Ramona', 'lastName': 'R.', 'country': 'Paraguay', 'continent': 'Americas', 'age': 29, 'language': 'Ruby', 'meal': 'vegan' },\n",
    "    { 'firstName': 'George', 'lastName': 'B.', 'country': 'England', 'continent': 'Europe', 'age': 81, 'language': 'C', 'meal': 'vegetarian' },\n",
    "]\n",
    "res = order_food(attendees)\n",
    "print(res) # prints: { 'vegetarian': 2, 'standard': 1, 'vegan': 1 }\n",
    "```"
   ]
  },
  {
   "cell_type": "code",
   "execution_count": null,
   "metadata": {},
   "outputs": [],
   "source": [
    "def order_food(attendees):\n",
    "    return [] # TODO: replace this line with your code\n",
    "\n",
    "attendees = [\n",
    "    { 'firstName': 'Noah', 'lastName': 'M.', 'country': 'Switzerland', 'continent': 'Europe', 'age': 19, 'language': 'C', 'meal': 'vegetarian' },\n",
    "    { 'firstName': 'Anna', 'lastName': 'R.', 'country': 'Liechtenstein', 'continent': 'Europe', 'age': 52, 'language': 'JavaScript', 'meal': 'standard' },\n",
    "    { 'firstName': 'Ramona', 'lastName': 'R.', 'country': 'Paraguay', 'continent': 'Americas', 'age': 29, 'language': 'Ruby', 'meal': 'vegan' },\n",
    "    { 'firstName': 'George', 'lastName': 'B.', 'country': 'England', 'continent': 'Europe', 'age': 81, 'language': 'C', 'meal': 'vegetarian' },\n",
    "]\n",
    "res = order_food(attendees)\n",
    "print(res)"
   ]
  },
  {
   "cell_type": "markdown",
   "metadata": {
    "deletable": false,
    "editable": false
   },
   "source": [
    "### Solution\n",
    "\n",
    ":::{dropdown} Expand to show solution\n",
    "\n",
    "```python\n",
    "def order_food(attendees):\n",
    "    meal_count = {}\n",
    "    for attendee in attendees:\n",
    "        meal = attendee['meal']\n",
    "        if meal in meal_count:\n",
    "            meal_count[meal] += 1\n",
    "        else:\n",
    "            meal_count[meal] = 1\n",
    "    return meal_count\n",
    "```\n",
    "\n",
    "or\n",
    "\n",
    "```python\n",
    "from collections import Counter\n",
    "\n",
    "def order_food(attendees): \n",
    "    return Counter(a['meal'] for a in attendees)\n",
    "```\n",
    "\n",
    ":::"
   ]
  },
  {
   "cell_type": "markdown",
   "metadata": {
    "deletable": false,
    "editable": false
   },
   "source": [
    "<hr>\n",
    "\n",
    "## Reduce Fraction\n",
    "\n",
    "Write a function `reduce_fraction`.\n",
    "\n",
    "The function has the following parameters:\n",
    "\n",
    "- `fraction` of type `list`, which is a list with two elements (tuple) representing the fraction.\n",
    "\n",
    "The function should return a completely reduced fraction as a `list` with two elements.\n",
    "\n",
    "```{tip}\n",
    "This function needs to find the greatest common divisor (GCD).\n",
    "```\n",
    "\n",
    "**Example:**\n",
    "```python\n",
    "res = reduce_fraction([45, 120])\n",
    "print(res) # prints: [3, 8]\n",
    "```"
   ]
  },
  {
   "cell_type": "code",
   "execution_count": null,
   "metadata": {},
   "outputs": [],
   "source": [
    "def reduce_fraction(fraction: list[int]) -> list[int]:\n",
    "    return [0,0] # TODO: replace this line with your code\n",
    "\n",
    "res = reduce_fraction([45, 120])\n",
    "print(res)"
   ]
  },
  {
   "cell_type": "markdown",
   "metadata": {
    "deletable": false,
    "editable": false
   },
   "source": [
    "### Solution\n",
    "\n",
    ":::{dropdown} Expand to show solution\n",
    "\n",
    "```python\n",
    "def reduce_fraction(fraction: list[int]) -> list[int]:\n",
    "    a = fraction[0]\n",
    "    b = fraction[1]\n",
    "    while b:\n",
    "        a, b = b, a%b\n",
    "    return [fraction[0] // a, fraction[1] // a]\n",
    "```\n",
    "\n",
    "or\n",
    "\n",
    "```python\n",
    "from math import gcd\n",
    "\n",
    "def reduce_fraction(fraction: list[int]) -> list[int]:\n",
    "    a = gcd(*fraction)\n",
    "    return [fraction[0] // a, fraction[1] // a]\n",
    "```\n",
    "\n",
    ":::"
   ]
  }
 ],
 "metadata": {
  "kernelspec": {
   "display_name": "challenges",
   "language": "python",
   "name": "python3"
  },
  "language_info": {
   "codemirror_mode": {
    "name": "ipython",
    "version": 3
   },
   "file_extension": ".py",
   "mimetype": "text/x-python",
   "name": "python",
   "nbconvert_exporter": "python",
   "pygments_lexer": "ipython3",
   "version": "3.12.9"
  }
 },
 "nbformat": 4,
 "nbformat_minor": 2
}
